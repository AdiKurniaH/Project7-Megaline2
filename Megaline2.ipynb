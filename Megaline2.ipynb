{
 "cells": [
  {
   "cell_type": "markdown",
   "metadata": {},
   "source": [
    "## Deskripsi Proyek"
   ]
  },
  {
   "cell_type": "markdown",
   "metadata": {},
   "source": [
    "Operator seluler Megaline merasa tidak puas karena sebagian besar pelanggan mereka masih menggunakan paket lama. Perusahaan tersebut ingin mengembangkan sebuah model yang bisa menganalisis perilaku konsumen dan merekomendasikan salah satu dari kedua paket terbaru Megaline: Smart atau Ultra.\n",
    "Data yang dapat diakses adalah data untuk perilaku para pelanggan yang sudah beralih ke paket terbaru (dari proyek kursus Analisis Data Statistik). Dalam tugas klasifikasi ini, perlu pengembangan sebuah model yang mampu memilih paket dengan tepat.\n",
    "Kembangkan sebuah model dengan tingkat accuracy yang setinggi-tingginya. Di proyek ini, ambang batas untuk tingkat accuracy adalah 0,75 dan Jangan lupa untuk memeriksa tingkat accuracy model menggunakan test dataset."
   ]
  },
  {
   "cell_type": "markdown",
   "metadata": {},
   "source": [
    "## Deskripsi Data"
   ]
  },
  {
   "cell_type": "markdown",
   "metadata": {},
   "source": [
    "- `сalls` — jumlah panggilan\n",
    "- `minutes` — total durasi panggilan dalam satuan menit\n",
    "- `messages` — jumlah pesan teks\n",
    "- `mb_used` — traffic penggunaan internet dalam satuan MB\n",
    "- `is_ultimate` — paket untuk bulan yang sedang berjalan (Ultimate - 1, Surf - 0)"
   ]
  },
  {
   "cell_type": "markdown",
   "metadata": {},
   "source": [
    "## Tahapan"
   ]
  },
  {
   "cell_type": "markdown",
   "metadata": {},
   "source": [
    "- Tahap 1. Import library\n",
    "- Tahap 2. Import data & Checking data\n",
    "- Tahap 3. Pemisahan data\n",
    "- Tahap 4. Kualitas model\n",
    "- Tahap 5. Periksa kualitas Model\n",
    "- Tahap 6. Sanity Check\n"
   ]
  },
  {
   "cell_type": "markdown",
   "metadata": {},
   "source": [
    "## Tahap 1. Import library"
   ]
  },
  {
   "cell_type": "markdown",
   "metadata": {},
   "source": [
    "Import library yang akan digunakan"
   ]
  },
  {
   "cell_type": "code",
   "execution_count": 1,
   "metadata": {},
   "outputs": [],
   "source": [
    "import pandas as pd\n",
    "\n",
    "# model\n",
    "from sklearn.tree import DecisionTreeClassifier\n",
    "from sklearn.ensemble import RandomForestClassifier\n",
    "from sklearn.linear_model import LogisticRegression\n",
    "\n",
    "# split data\n",
    "from sklearn.model_selection import train_test_split\n",
    "\n",
    "# cek akurasi\n",
    "from sklearn.metrics import accuracy_score\n"
   ]
  },
  {
   "cell_type": "markdown",
   "metadata": {},
   "source": [
    "## Tahap 2. Import data & Checking data"
   ]
  },
  {
   "cell_type": "markdown",
   "metadata": {},
   "source": [
    "Data berada di data path berikut:\n",
    "\n",
    "- /datasets/users_behavior.csv"
   ]
  },
  {
   "cell_type": "code",
   "execution_count": 2,
   "metadata": {},
   "outputs": [
    {
     "data": {
      "text/html": [
       "<div>\n",
       "<style scoped>\n",
       "    .dataframe tbody tr th:only-of-type {\n",
       "        vertical-align: middle;\n",
       "    }\n",
       "\n",
       "    .dataframe tbody tr th {\n",
       "        vertical-align: top;\n",
       "    }\n",
       "\n",
       "    .dataframe thead th {\n",
       "        text-align: right;\n",
       "    }\n",
       "</style>\n",
       "<table border=\"1\" class=\"dataframe\">\n",
       "  <thead>\n",
       "    <tr style=\"text-align: right;\">\n",
       "      <th></th>\n",
       "      <th>calls</th>\n",
       "      <th>minutes</th>\n",
       "      <th>messages</th>\n",
       "      <th>mb_used</th>\n",
       "      <th>is_ultra</th>\n",
       "    </tr>\n",
       "  </thead>\n",
       "  <tbody>\n",
       "    <tr>\n",
       "      <th>0</th>\n",
       "      <td>40.0</td>\n",
       "      <td>311.90</td>\n",
       "      <td>83.0</td>\n",
       "      <td>19915.42</td>\n",
       "      <td>0</td>\n",
       "    </tr>\n",
       "    <tr>\n",
       "      <th>1</th>\n",
       "      <td>85.0</td>\n",
       "      <td>516.75</td>\n",
       "      <td>56.0</td>\n",
       "      <td>22696.96</td>\n",
       "      <td>0</td>\n",
       "    </tr>\n",
       "    <tr>\n",
       "      <th>2</th>\n",
       "      <td>77.0</td>\n",
       "      <td>467.66</td>\n",
       "      <td>86.0</td>\n",
       "      <td>21060.45</td>\n",
       "      <td>0</td>\n",
       "    </tr>\n",
       "    <tr>\n",
       "      <th>3</th>\n",
       "      <td>106.0</td>\n",
       "      <td>745.53</td>\n",
       "      <td>81.0</td>\n",
       "      <td>8437.39</td>\n",
       "      <td>1</td>\n",
       "    </tr>\n",
       "    <tr>\n",
       "      <th>4</th>\n",
       "      <td>66.0</td>\n",
       "      <td>418.74</td>\n",
       "      <td>1.0</td>\n",
       "      <td>14502.75</td>\n",
       "      <td>0</td>\n",
       "    </tr>\n",
       "  </tbody>\n",
       "</table>\n",
       "</div>"
      ],
      "text/plain": [
       "   calls  minutes  messages   mb_used  is_ultra\n",
       "0   40.0   311.90      83.0  19915.42         0\n",
       "1   85.0   516.75      56.0  22696.96         0\n",
       "2   77.0   467.66      86.0  21060.45         0\n",
       "3  106.0   745.53      81.0   8437.39         1\n",
       "4   66.0   418.74       1.0  14502.75         0"
      ]
     },
     "execution_count": 2,
     "metadata": {},
     "output_type": "execute_result"
    }
   ],
   "source": [
    "path = '/datasets/users_behavior.csv'\n",
    "data = pd.read_csv(path)\n",
    "data.head()"
   ]
  },
  {
   "cell_type": "code",
   "execution_count": 3,
   "metadata": {},
   "outputs": [
    {
     "data": {
      "text/plain": [
       "(3214, 5)"
      ]
     },
     "execution_count": 3,
     "metadata": {},
     "output_type": "execute_result"
    }
   ],
   "source": [
    "data.shape"
   ]
  },
  {
   "cell_type": "code",
   "execution_count": 4,
   "metadata": {},
   "outputs": [
    {
     "data": {
      "text/plain": [
       "0    69.352831\n",
       "1    30.647169\n",
       "Name: is_ultra, dtype: float64"
      ]
     },
     "execution_count": 4,
     "metadata": {},
     "output_type": "execute_result"
    }
   ],
   "source": [
    "data['is_ultra'].value_counts() / data.shape[0] * 100"
   ]
  },
  {
   "cell_type": "markdown",
   "metadata": {},
   "source": [
    "**Kesimpulan**\n",
    "\n",
    "Terdapat 5 kolom yang berbeda, 4 kolom sebagai fitur dan satu kolom sebagai target. Target yang digunakan adalah kolom `is_ultra`. Persentase yang ada pada kolom target memiliki nilai yang cukup besar perbedaannya atau dengan kata lain pada kolom target terdapat ketidak seimbangan data. Untuk nilai 0 (bukan ultra) berkisar hingga 70% sedangkan nilai 1 (ultra) berkisar 30%.  "
   ]
  },
  {
   "cell_type": "markdown",
   "metadata": {},
   "source": [
    "## Tahap 3. Pemisahan data"
   ]
  },
  {
   "cell_type": "markdown",
   "metadata": {},
   "source": [
    "Data yang ada dipisahkan ke dalam 3 bagian data yaitu:\n",
    "- training set\n",
    "- validation set\n",
    "- test set\n",
    "\n",
    "Dengan mengunakan train_test_split data dapat di pisahkan menjadi 3 bagian dengan porsi terbesar berada pada training set."
   ]
  },
  {
   "cell_type": "code",
   "execution_count": 5,
   "metadata": {},
   "outputs": [
    {
     "data": {
      "text/plain": [
       "((2602, 5), (290, 5), (322, 5))"
      ]
     },
     "execution_count": 5,
     "metadata": {},
     "output_type": "execute_result"
    }
   ],
   "source": [
    "train_valid, test = train_test_split(data, test_size=0.1) \n",
    "train, valid = train_test_split(train_valid, test_size=0.1) \n",
    "\n",
    "train.shape, valid.shape, test.shape"
   ]
  },
  {
   "cell_type": "markdown",
   "metadata": {},
   "source": [
    "Data telah dipisahkan dengan kedalam 3 bagian yaitu train, valid, dan test. Dari ke 3 bagian data tersebut pisahkan fitur dan target. Sesuai dengan keterangan sebelumnya, 4 kolom sebagai fitur dan kolom `is_ultra` sebagai target."
   ]
  },
  {
   "cell_type": "code",
   "execution_count": 6,
   "metadata": {},
   "outputs": [],
   "source": [
    "# training set, validation set, dan test set.\n",
    "\n",
    "features_train = train.drop(['is_ultra'], axis=1)\n",
    "target_train = train['is_ultra']\n",
    "\n",
    "features_valid = valid.drop(['is_ultra'], axis=1)\n",
    "target_valid = valid['is_ultra']\n",
    "\n",
    "features_test = test.drop(['is_ultra'], axis=1)\n",
    "target_test = test['is_ultra']"
   ]
  },
  {
   "cell_type": "code",
   "execution_count": 7,
   "metadata": {},
   "outputs": [
    {
     "name": "stdout",
     "output_type": "stream",
     "text": [
      "(2602, 4) (2602,)\n",
      "(290, 4) (290,)\n",
      "(322, 4) (322,)\n"
     ]
    }
   ],
   "source": [
    "print(features_train.shape, target_train.shape)\n",
    "print(features_valid.shape, target_valid.shape)\n",
    "print(features_test.shape, target_test.shape)"
   ]
  },
  {
   "cell_type": "markdown",
   "metadata": {},
   "source": [
    "**Kesimpulan**\n",
    "\n",
    "Ada beberapa catatan dari langkah yang telah dilakukan diatas, diantaranya:\n",
    "1. - features_train menyimpan fitur untuk training set.\n",
    "   - target_train menyimpan target untuk training set.\n",
    "2. - features_valid menyimpan fitur untuk validation set.\n",
    "   - target_valid menyimpan target untuk validation set.\n",
    "3. - features_test menyimpan fitur untuk test set.\n",
    "   - target_test menyimpan target untuk test set."
   ]
  },
  {
   "cell_type": "markdown",
   "metadata": {},
   "source": [
    "## Tahap 4. Kualitas model"
   ]
  },
  {
   "cell_type": "markdown",
   "metadata": {},
   "source": [
    "Pada tahap ini mari buat kualitas model yang berbeda. Sesuai intruksi yang ada yaitu gunkan beberapa model lalu dengan model tersebut coba ruubah hyperparameter nya. Langkah berikutnya yaitu jelaskan secara singkat semua temuan yang didapatkan dari penelitian ini.\n",
    "\n",
    "Model yang akan digunakan pada penelitian kali ini yaitu:\n",
    "1. Logistic Regression.\n",
    "2. Decision Tree Classifier.\n",
    "3. Random Forest Classifier.\n",
    "\n",
    "Untuk memudahkan langkah yang akan dilakukan, maka perlu sebuah fungsi untuk mempermudah perubahan dari hyperparameter."
   ]
  },
  {
   "cell_type": "markdown",
   "metadata": {},
   "source": [
    "### Logistic Regression"
   ]
  },
  {
   "cell_type": "markdown",
   "metadata": {},
   "source": [
    "Pada model sklearn.linear_model.LogisticRegression, hyperparameter yang akan dirubah adalah penalty nya. MAri buat fungsi untuk memudahkan penelitian ini. "
   ]
  },
  {
   "cell_type": "code",
   "execution_count": 8,
   "metadata": {},
   "outputs": [
    {
     "name": "stdout",
     "output_type": "stream",
     "text": [
      "Training-Set\n",
      "penalty: l1\n",
      "Accuracy Score: 0.7455803228285934\n",
      "Validation-Set\n",
      "penalty: l1\n",
      "Accuracy Score: 0.7275862068965517\n",
      "--------------------------------------\n",
      "Training-Set\n",
      "penalty: l2\n",
      "Accuracy Score: 0.708685626441199\n",
      "Validation-Set\n",
      "penalty: l2\n",
      "Accuracy Score: 0.6689655172413793\n",
      "--------------------------------------\n"
     ]
    }
   ],
   "source": [
    "list_penalty = ['l1', 'l2']\n",
    "\n",
    "for penalty in list_penalty:\n",
    "    logreg = LogisticRegression(random_state=1234, penalty=penalty, solver='liblinear')\n",
    "    logreg.fit(features_train, target_train)\n",
    "    \n",
    "    #prediksi data training\n",
    "    pred_train_logreg = logreg.predict(features_train)\n",
    "    print(f'Training-Set')\n",
    "    print(f'penalty: {penalty}')\n",
    "    print(f'Accuracy Score: {accuracy_score(target_train, pred_train_logreg)}')\n",
    "    \n",
    "    #prediksi data valid\n",
    "    pred_valid_logreg = logreg.predict(features_valid)\n",
    "    print(f'Validation-Set')\n",
    "    print(f'penalty: {penalty}')\n",
    "    print(f'Accuracy Score: {accuracy_score(target_valid, pred_valid_logreg)}')\n",
    "    \n",
    "    print('--------------------------------------')"
   ]
  },
  {
   "cell_type": "markdown",
   "metadata": {},
   "source": [
    "**Kesimpulan**\n",
    "\n",
    "Dari data yang ditampilkan diatas, didapat kesimpulan bahwa pada model Logistic Regression nilai dari accuracy score pada training set dan validation set tertinggi berada pada penalty yang di set di l1. Penalty yang di set di l1 memiliki accuracy score yang hampir mirip pada training set dan validation set."
   ]
  },
  {
   "cell_type": "markdown",
   "metadata": {},
   "source": [
    "### Decision Tree Classifier"
   ]
  },
  {
   "cell_type": "markdown",
   "metadata": {},
   "source": [
    "Mari lanjut ke model berikutnya. Pada model sklearn.tree.DecisionTreeRegressor, hyperparameter yang akan dirubah adalah nilai dari max_depth nya. Mari buat fungsi untuk memudahkan penelitian ini."
   ]
  },
  {
   "cell_type": "code",
   "execution_count": 9,
   "metadata": {},
   "outputs": [
    {
     "name": "stdout",
     "output_type": "stream",
     "text": [
      "Training-Set\n",
      "Max-depth: 2\n",
      "Accuracy Score: 0.7851652574942352\n",
      "Validation-Set\n",
      "Max-depth: 2\n",
      "Accuracy Score: 0.7586206896551724\n",
      "--------------------------------------\n",
      "Training-Set\n",
      "Max-depth: 3\n",
      "Accuracy Score: 0.7963105303612605\n",
      "Validation-Set\n",
      "Max-depth: 3\n",
      "Accuracy Score: 0.7862068965517242\n",
      "--------------------------------------\n",
      "Training-Set\n",
      "Max-depth: 4\n",
      "Accuracy Score: 0.8020753266717909\n",
      "Validation-Set\n",
      "Max-depth: 4\n",
      "Accuracy Score: 0.7793103448275862\n",
      "--------------------------------------\n",
      "Training-Set\n",
      "Max-depth: 5\n",
      "Accuracy Score: 0.818216756341276\n",
      "Validation-Set\n",
      "Max-depth: 5\n",
      "Accuracy Score: 0.7931034482758621\n",
      "--------------------------------------\n",
      "Training-Set\n",
      "Max-depth: 6\n",
      "Accuracy Score: 0.8259031514219831\n",
      "Validation-Set\n",
      "Max-depth: 6\n",
      "Accuracy Score: 0.7827586206896552\n",
      "--------------------------------------\n"
     ]
    }
   ],
   "source": [
    "list_max_depth = [2,3,4,5,6]\n",
    "\n",
    "for depth in list_max_depth:\n",
    "    dtree = DecisionTreeClassifier(random_state=1234, max_depth=depth)\n",
    "    dtree.fit(features_train, target_train)\n",
    "    \n",
    "    #prediksi data training\n",
    "    pred_train_dtree = dtree.predict(features_train)\n",
    "    print(f'Training-Set')\n",
    "    print(f'Max-depth: {depth}')\n",
    "    print(f'Accuracy Score: {accuracy_score(target_train, pred_train_dtree)}')\n",
    "    \n",
    "    #prediksi data valid\n",
    "    pred_valid_dtree = dtree.predict(features_valid)\n",
    "    print(f'Validation-Set')\n",
    "    print(f'Max-depth: {depth}')\n",
    "    print(f'Accuracy Score: {accuracy_score(target_valid, pred_valid_dtree)}')\n",
    "    \n",
    "    print('--------------------------------------')"
   ]
  },
  {
   "cell_type": "markdown",
   "metadata": {},
   "source": [
    "**Kesimpulan**\n",
    "\n",
    "Dari data yang ditampilkan diatas, didapat kesimpulan bahwa model Decision Tree mimiliki nilai accuracy score yang beragam sesuao dengan max depth yang di setting. Nilai accuracy score tertinggi berada pada max depth 6, baik itu training set maupun validation set, nilai accuracy score pada max depth ini adalah yang tertinggi. "
   ]
  },
  {
   "cell_type": "markdown",
   "metadata": {},
   "source": [
    "### Random Forest Classifier."
   ]
  },
  {
   "cell_type": "markdown",
   "metadata": {},
   "source": [
    "Mari lanjut ke model terakhir. Pada model sklearn.ensemble.RandomForestClassifier, hyperparameter yang akan dirubah adalah nilai dari max_depth nya. Mari buat fungsi untuk memudahkan penelitian ini."
   ]
  },
  {
   "cell_type": "code",
   "execution_count": 10,
   "metadata": {},
   "outputs": [
    {
     "name": "stdout",
     "output_type": "stream",
     "text": [
      "Training-Set\n",
      "Max-depth: 2\n",
      "Accuracy Score: 0.7851652574942352\n",
      "Validation-Set\n",
      "Max-depth: 2\n",
      "Accuracy Score: 0.7586206896551724\n",
      "--------------------------------------\n",
      "Training-Set\n",
      "Max-depth: 3\n",
      "Accuracy Score: 0.7974634896233667\n",
      "Validation-Set\n",
      "Max-depth: 3\n",
      "Accuracy Score: 0.7793103448275862\n",
      "--------------------------------------\n",
      "Training-Set\n",
      "Max-depth: 4\n",
      "Accuracy Score: 0.8105303612605688\n",
      "Validation-Set\n",
      "Max-depth: 4\n",
      "Accuracy Score: 0.7862068965517242\n",
      "--------------------------------------\n",
      "Training-Set\n",
      "Max-depth: 5\n",
      "Accuracy Score: 0.818216756341276\n",
      "Validation-Set\n",
      "Max-depth: 5\n",
      "Accuracy Score: 0.7931034482758621\n",
      "--------------------------------------\n",
      "Training-Set\n",
      "Max-depth: 6\n",
      "Accuracy Score: 0.8297463489623367\n",
      "Validation-Set\n",
      "Max-depth: 6\n",
      "Accuracy Score: 0.7931034482758621\n",
      "--------------------------------------\n"
     ]
    }
   ],
   "source": [
    "list_max_depth = [2,3,4,5,6]\n",
    "\n",
    "for depth in list_max_depth:\n",
    "    rf = RandomForestClassifier(random_state=1234, max_depth=depth)\n",
    "    rf.fit(features_train, target_train)\n",
    "    \n",
    "    #prediksi data training\n",
    "    pred_train_rf = rf.predict(features_train)\n",
    "    print(f'Training-Set')\n",
    "    print(f'Max-depth: {depth}')\n",
    "    print(f'Accuracy Score: {accuracy_score(target_train, pred_train_rf)}')\n",
    "    \n",
    "    #prediksi data valid\n",
    "    pred_valid_rf = rf.predict(features_valid)\n",
    "    print(f'Validation-Set')\n",
    "    print(f'Max-depth: {depth}')\n",
    "    print(f'Accuracy Score: {accuracy_score(target_valid, pred_valid_rf)}')\n",
    "    \n",
    "    print('--------------------------------------')"
   ]
  },
  {
   "cell_type": "markdown",
   "metadata": {},
   "source": [
    "**Kesimpulan**\n",
    "\n",
    "Dari data yang ditampilkan diatas, didapat kesimpulan bahwa pada model Random Forest, nilai accuracy score yang di tampilkan cukup beragam sesuai dengan max depth yang di setting. Nilai accuracy scor tertinggi berada pada max depth 6. Training set dan validation set pada max depth 6 memiliki accuracy score yang tertinggi."
   ]
  },
  {
   "cell_type": "markdown",
   "metadata": {},
   "source": [
    "## Tahap 5. Periksa kualitas Model"
   ]
  },
  {
   "cell_type": "markdown",
   "metadata": {},
   "source": [
    "Dari ke 3 model yang telah di uji sebelumnya, didapat model yang paling baik atau yang memiliki nilai accuracy score tertinggi adalah model Random Forest. Pada model ini nilai accuracy score tertinggi berada dapa max depth yang diset di 6. Sesuai dengan intruksi tugas yag diberikan bahwa ambang batas untuk tingkat accuracy adalah 0,75, maka model ini sudah sesuai atau nilai dari accuracy score nya sudah melampaui dari ambang batas yang diberikan. Oleh karena itu, mari lakukan pemeriksaan model menggunakan model Random Forest dan data yang akan di uji adalah data dari test set."
   ]
  },
  {
   "cell_type": "code",
   "execution_count": 11,
   "metadata": {},
   "outputs": [
    {
     "data": {
      "text/plain": [
       "RandomForestClassifier(max_depth=6, random_state=1234)"
      ]
     },
     "execution_count": 11,
     "metadata": {},
     "output_type": "execute_result"
    }
   ],
   "source": [
    "rf_test = RandomForestClassifier(random_state=1234, max_depth=6)\n",
    "rf_test.fit(features_test, target_test)"
   ]
  },
  {
   "cell_type": "code",
   "execution_count": 12,
   "metadata": {},
   "outputs": [
    {
     "data": {
      "text/plain": [
       "0.9006211180124224"
      ]
     },
     "execution_count": 12,
     "metadata": {},
     "output_type": "execute_result"
    }
   ],
   "source": [
    "pred_test_rf = rf_test.predict(features_test)\n",
    "accuracy_score(target_test, pred_test_rf)"
   ]
  },
  {
   "cell_type": "markdown",
   "metadata": {},
   "source": [
    "**Kesimpulan**\n",
    "\n",
    "Dari uji model yang telah dilakukan, didapat model Random Forest dengan max depth 6 yang memiliki nilai accuracy score yang paling tinggi. Accuracy score dari ke 3 data tersebut adalah:\n",
    "1. Training-Set\n",
    "   - Max-depth: 6\n",
    "   - Accuracy Score: 82%\n",
    "2. Validation-Set\n",
    "   - Max-depth: 6\n",
    "   - Accuracy Score: 79%\n",
    "2. Test-Set\n",
    "   - Max-depth: 6\n",
    "   - Accuracy Score: 90%"
   ]
  },
  {
   "cell_type": "markdown",
   "metadata": {},
   "source": [
    "## Tahap 6. Sanity Check"
   ]
  },
  {
   "cell_type": "markdown",
   "metadata": {},
   "source": [
    "Pada tahap ini, mari coba menggunkan dummy prediction untuk mengecek tingkat kewarasan dari model yang telah diuji. Dengan menggunakan dummy prediction mari bandingkan dengan tingkat dari accuracy data yang ada. "
   ]
  },
  {
   "cell_type": "code",
   "execution_count": 14,
   "metadata": {},
   "outputs": [
    {
     "data": {
      "text/plain": [
       "0    2229\n",
       "1     985\n",
       "Name: is_ultra, dtype: int64"
      ]
     },
     "execution_count": 14,
     "metadata": {},
     "output_type": "execute_result"
    }
   ],
   "source": [
    "data['is_ultra'].value_counts()"
   ]
  },
  {
   "cell_type": "code",
   "execution_count": 15,
   "metadata": {},
   "outputs": [
    {
     "data": {
      "text/plain": [
       "0    69.352831\n",
       "1    30.647169\n",
       "Name: is_ultra, dtype: float64"
      ]
     },
     "execution_count": 15,
     "metadata": {},
     "output_type": "execute_result"
    }
   ],
   "source": [
    "data['is_ultra'].value_counts() / data.shape[0] * 100"
   ]
  },
  {
   "cell_type": "code",
   "execution_count": 16,
   "metadata": {},
   "outputs": [],
   "source": [
    "data_dummy = data\n",
    "data_dummy['dummy_predictions'] = 0 "
   ]
  },
  {
   "cell_type": "code",
   "execution_count": 22,
   "metadata": {},
   "outputs": [
    {
     "name": "stdout",
     "output_type": "stream",
     "text": [
      "Accuracy score dummy: 0.693528313627878\n",
      "------------------------------------------\n",
      "Accuracy score model: 0.9006211180124224\n"
     ]
    }
   ],
   "source": [
    "print('Accuracy score dummy:', accuracy_score(data_dummy['is_ultra'], data_dummy['dummy_predictions']))\n",
    "print('------------------------------------------')\n",
    "print('Accuracy score model:', accuracy_score(target_test, pred_test_rf))\n"
   ]
  },
  {
   "cell_type": "markdown",
   "metadata": {},
   "source": [
    "**Kesimpulan**\n",
    "\n",
    "Dari hasil yang telah ditampilkan, didapat kesimpulan bahwa model yang telah diuji dan dipilih untuk test set telah melampaui dari nilai accuracy score dummy predictions."
   ]
  },
  {
   "cell_type": "markdown",
   "metadata": {},
   "source": [
    "## Kesimpulan"
   ]
  },
  {
   "cell_type": "markdown",
   "metadata": {},
   "source": [
    "Dari langkah yang telah dilakukan, didapat kesimpulan sebagai berikut:\n",
    "\n",
    "1. Data yang diuji disimpan kedalm variable data.\n",
    "2. Data yang ada dibagi menjadi 3 bagian data, yaitu training set, validation set, dan test set.\n",
    "3. Model yang digunakan pada penelitian kali ini ada 3 model, yaitu Logistic Regression, Decission Tree, dan juga Random Forest.\n",
    "4. Model yang digunakan pada test set adalah model Random Forest Classifier dengan max depth 6\n",
    "5. Model Random Forest Classifier dengan max depth 6 yang dilakukan pada test set memiliki accuracy score 90%.\n",
    "6. Sanity check dilakukan dengan dummy predictions dan didapat accuracy score dari dummy predictions adalah 69%,  "
   ]
  },
  {
   "cell_type": "code",
   "execution_count": null,
   "metadata": {},
   "outputs": [],
   "source": []
  }
 ],
 "metadata": {
  "kernelspec": {
   "display_name": "Python 3 (ipykernel)",
   "language": "python",
   "name": "python3"
  },
  "language_info": {
   "codemirror_mode": {
    "name": "ipython",
    "version": 3
   },
   "file_extension": ".py",
   "mimetype": "text/x-python",
   "name": "python",
   "nbconvert_exporter": "python",
   "pygments_lexer": "ipython3",
   "version": "3.11.4"
  },
  "toc": {
   "base_numbering": 1,
   "nav_menu": {},
   "number_sections": true,
   "sideBar": true,
   "skip_h1_title": true,
   "title_cell": "Table of Contents",
   "title_sidebar": "Contents",
   "toc_cell": false,
   "toc_position": {
    "height": "calc(100% - 180px)",
    "left": "10px",
    "top": "150px",
    "width": "246.6px"
   },
   "toc_section_display": true,
   "toc_window_display": true
  }
 },
 "nbformat": 4,
 "nbformat_minor": 2
}
